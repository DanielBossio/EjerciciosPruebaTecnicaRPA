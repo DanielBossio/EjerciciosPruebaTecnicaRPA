{
  "nbformat": 4,
  "nbformat_minor": 0,
  "metadata": {
    "colab": {
      "provenance": []
    },
    "kernelspec": {
      "name": "python3",
      "display_name": "Python 3"
    },
    "language_info": {
      "name": "python"
    }
  },
  "cells": [
    {
      "cell_type": "markdown",
      "source": [
        "**Ejercicio 2.**\n",
        "\n",
        "Escriba una función que retorne en una lista de salida, solo aquellos números de una lista de entrada que satisfagan las\n",
        "siguientes condiciones:\n",
        "1. El número debe ser divisible por cinco.\n",
        "2. Si el número es mayor que 600, no se incluye en la salida.\n",
        "3. Si el número es mayor que 1000, detenga el procesamiento y retorne el resultado.\n",
        "\n",
        "Ejemplos:\n",
        "\n",
        "Entrada : [24, 150, 300, 660, 295, 1050, 50]\n",
        "\n",
        "Salida : [150, 300, 295]\n",
        "\n",
        "Entrada : [110, 720, 307, 555, 1095, 12, 300, 1000]\n",
        "\n",
        "Salida : [110, 555]"
      ],
      "metadata": {
        "id": "VormehbaJSdP"
      }
    },
    {
      "cell_type": "code",
      "execution_count": 3,
      "metadata": {
        "id": "fOxse4yaJRbH"
      },
      "outputs": [],
      "source": [
        "def revisionlista(lista: list):\n",
        "  resp = []\n",
        "  for x in lista:\n",
        "    #Detener la función si el número es mayor a 1000\n",
        "    if x > 1000: return resp\n",
        "    #Añadir el número solo si es menor a 600 y divisible por 5\n",
        "    if (x % 5 == 0) and (x < 600): resp.append(x)\n",
        "  return resp"
      ]
    },
    {
      "cell_type": "code",
      "source": [
        "revisionlista([24, 150, 300, 660, 295, 1050, 50])"
      ],
      "metadata": {
        "colab": {
          "base_uri": "https://localhost:8080/"
        },
        "id": "inQMZ8RNLBzr",
        "outputId": "7c8894b4-acb9-464e-fe1e-15aac39200e5"
      },
      "execution_count": 4,
      "outputs": [
        {
          "output_type": "execute_result",
          "data": {
            "text/plain": [
              "[150, 300, 295]"
            ]
          },
          "metadata": {},
          "execution_count": 4
        }
      ]
    },
    {
      "cell_type": "code",
      "source": [],
      "metadata": {
        "id": "p0H-HmsNLE0O"
      },
      "execution_count": null,
      "outputs": []
    }
  ]
}