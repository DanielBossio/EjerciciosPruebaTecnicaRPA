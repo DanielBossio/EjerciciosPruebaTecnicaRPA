{
  "nbformat": 4,
  "nbformat_minor": 0,
  "metadata": {
    "colab": {
      "provenance": []
    },
    "kernelspec": {
      "name": "python3",
      "display_name": "Python 3"
    },
    "language_info": {
      "name": "python"
    }
  },
  "cells": [
    {
      "cell_type": "markdown",
      "source": [
        "**Ejercicio 3.**\n",
        "\n",
        "Dada una lista de cualquier longitud de entrada, escriba una función para agrupar los elementos similares en una matriz\n",
        "de salida (no importa el orden). Ejemplos:\n",
        "\n",
        "Entrada : list = [12, 25, 1, 1, 7, 25]\n",
        "\n",
        "Salida : [[12], [7], [25, 25], [1, 1]]\n",
        "\n",
        "Entrada : list = [6, 7, 8, 9]\n",
        "\n",
        "Salida : [[6], [7], [8], [9]]"
      ],
      "metadata": {
        "id": "q6N5JINUMZAb"
      }
    },
    {
      "cell_type": "code",
      "execution_count": 1,
      "metadata": {
        "id": "rBepdPHjMYWA"
      },
      "outputs": [],
      "source": [
        "def agruparlista(lista: list):\n",
        "  resp = []\n",
        "  #Identificar los diferentes elementos de la lista\n",
        "  for x in set(lista):\n",
        "    #Contar las veces que el elemento aparece en la lista,\n",
        "    #luego añadir una lista que consiste en el elemento\n",
        "    #repetido tantas veces como el conteo indique\n",
        "    resp.append([x for i in range(lista.count(x))])\n",
        "  return resp"
      ]
    },
    {
      "cell_type": "code",
      "source": [
        "agruparlista([12, 25, 1, 1, 7, 25])"
      ],
      "metadata": {
        "colab": {
          "base_uri": "https://localhost:8080/"
        },
        "id": "hIHJ-3QpNis3",
        "outputId": "181a48ee-0c4b-4fce-d0f7-80ccf793823f"
      },
      "execution_count": 2,
      "outputs": [
        {
          "output_type": "execute_result",
          "data": {
            "text/plain": [
              "[[25, 25], [12], [1, 1], [7]]"
            ]
          },
          "metadata": {},
          "execution_count": 2
        }
      ]
    },
    {
      "cell_type": "code",
      "source": [
        "agruparlista([6, 7, 8, 9])"
      ],
      "metadata": {
        "colab": {
          "base_uri": "https://localhost:8080/"
        },
        "id": "J6ydUCm1NrlQ",
        "outputId": "b152e30a-3eb4-4134-8fdc-5155840d6fa8"
      },
      "execution_count": 3,
      "outputs": [
        {
          "output_type": "execute_result",
          "data": {
            "text/plain": [
              "[[8], [9], [6], [7]]"
            ]
          },
          "metadata": {},
          "execution_count": 3
        }
      ]
    },
    {
      "cell_type": "code",
      "source": [],
      "metadata": {
        "id": "e0ba3Xt9NxtC"
      },
      "execution_count": null,
      "outputs": []
    }
  ]
}
