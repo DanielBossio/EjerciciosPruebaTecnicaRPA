{
  "nbformat": 4,
  "nbformat_minor": 0,
  "metadata": {
    "colab": {
      "provenance": []
    },
    "kernelspec": {
      "name": "python3",
      "display_name": "Python 3"
    },
    "language_info": {
      "name": "python"
    }
  },
  "cells": [
    {
      "cell_type": "markdown",
      "source": [
        "**Ejercicio 1.**\n",
        "\n",
        "Escriba una función que retorne la suma de una serie de X número repetido hasta el n-ésimo término. Ejemplos:\n",
        "\n",
        "Entrada : numero=3, terminos=5\n",
        "Salida : 37035 (3 + 33 + 333 + 3333 + 33333)\n",
        "\n",
        "Entrada : numero=5, terminos=3\n",
        "Salida : 615 (5 + 55 + 555)"
      ],
      "metadata": {
        "id": "i7AnSNqRGUhy"
      }
    },
    {
      "cell_type": "code",
      "source": [
        "def sumaserienum(numero=3, terminos=5):\n",
        "  suma = 0\n",
        "  for i in range(1,terminos+1):\n",
        "    termino = 0\n",
        "    for j in range(i):\n",
        "      termino += numero*(10**j)\n",
        "    suma += termino\n",
        "  return suma"
      ],
      "metadata": {
        "id": "XzJQ8kEUILZz"
      },
      "execution_count": 27,
      "outputs": []
    },
    {
      "cell_type": "code",
      "source": [
        "sumaserienum(5, 3)"
      ],
      "metadata": {
        "colab": {
          "base_uri": "https://localhost:8080/"
        },
        "id": "P3OSwHzsG8Gc",
        "outputId": "6d5ca56b-1374-4987-e149-e72daec4dc5d"
      },
      "execution_count": 28,
      "outputs": [
        {
          "output_type": "execute_result",
          "data": {
            "text/plain": [
              "615"
            ]
          },
          "metadata": {},
          "execution_count": 28
        }
      ]
    },
    {
      "cell_type": "code",
      "source": [],
      "metadata": {
        "id": "kXddP3xDHA7G"
      },
      "execution_count": null,
      "outputs": []
    }
  ]
}